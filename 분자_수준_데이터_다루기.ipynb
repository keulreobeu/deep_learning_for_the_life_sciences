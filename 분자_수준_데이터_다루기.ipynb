{
  "nbformat": 4,
  "nbformat_minor": 0,
  "metadata": {
    "colab": {
      "provenance": [],
      "runtime_attributes": {
        "runtime_version": "2025.07"
      },
      "authorship_tag": "ABX9TyNhJlGWglmor6zGsmffRIBt",
      "include_colab_link": true
    },
    "kernelspec": {
      "name": "python3",
      "display_name": "Python 3"
    },
    "language_info": {
      "name": "python"
    }
  },
  "cells": [
    {
      "cell_type": "markdown",
      "metadata": {
        "id": "view-in-github",
        "colab_type": "text"
      },
      "source": [
        "<a href=\"https://colab.research.google.com/github/keulreobeu/deep_learning_for_the_life_sciences/blob/main/%EB%B6%84%EC%9E%90_%EC%88%98%EC%A4%80_%EB%8D%B0%EC%9D%B4%ED%84%B0_%EB%8B%A4%EB%A3%A8%EA%B8%B0.ipynb\" target=\"_parent\"><img src=\"https://colab.research.google.com/assets/colab-badge.svg\" alt=\"Open In Colab\"/></a>"
      ]
    },
    {
      "cell_type": "markdown",
      "source": [
        "# 분자 수준 데이터 다루기\n",
        "\n",
        "* 분자 피처화(molecular featurization): 분자 구조 데이터를 벡터로 변환\n",
        "    *   화학 표현자 벡터\n",
        "    *   2차원 그래프\n",
        "    *   3차원 정전기적 그리드\n",
        "    *   오비탈 궤도 기반 함수 등\n",
        "*   분자 그래프\n",
        "    *   분자는 구조가 매우 중요한데 그 중 3차원 구조에서 원자배치가 매우 중요하다 이를 분자구조라 한다\n",
        "*   분자 카이랄성\n",
        "    *   거울상의 분자 구조들을 말한다. 이성질체\n",
        "    *   이성질체는 화학반응을 통해 합성된 물질에서 많이 발생한다. 이러한 이성질체는 구조는 비슷하나 효과가 전혀 다르고 독성을 띄는 경우도 많다.\n",
        "\n",
        "# 분자 데이터 피처화\n",
        "*   SMILE 문자열과 RDKit\n",
        "    *   SMILE(Simplified Molecular Input Line Entry System): 분자의 화학식을 분자열로 나타내는 방식중 하나.\n",
        "    *   RDKit: SMILE를 다루기 위한 라이브러리, 문자열을 분자 그래프 및 다양한 방식의 표현으로 변환하기 위한 역할을 한다.\n",
        "    *   화학 지문: 분자의 특성 유무를 1과 0으로 나타낸 벡터.\n",
        "    *   확장 연결 지문(Extended-Connectivity FingerPrint, ECFP): 화학 지문의 몇가지 유용한 특성을 결합한 피처화 방법\n",
        "        *   머신러닝을 사용시 동일한 크기의 벡터를 사용해야 함으로 서로 다른 크기의 벡터를 같은 크기로 변환해준다. 또한 비슷한 백터값을 많이 가질수록 분자가 유사하다고 간주할 수 있다. 계산도 빠르다.\n",
        "        *   일반적으로 사용되는 알고리즘은 ECFP4\n",
        "        *   하지만 확장 연결 지문은 일부 정보가 손실된다는 문제가 있다.\n",
        "    *   분자 표현자: 분배 계수, 극성 표면적 같은 계산 값\n",
        "        *   분자의 일반적인 특성에 의존하는 것을 예측할때 주로 사용\n",
        "        *   원자의 상세한 배열에 의존하는 특성을 예측하는데는 효과적이지 못함\n",
        "*   그래프 합성곱\n",
        "    *   피쳐화를 머신러닝 모델이 스스로 만든 피쳐화\n",
        "    *   분자의 사진에 원소, 전하, 혼성화 등의 화학적 성질을 포함하여 합성곱을 계산하여 피쳐화를 한다\n",
        "    *   합성곱(GraphConvModel), 위브 모델(WeaveModel), 메시지 전달 신경망(MPNModel), 딥 텐서 신경망(DTNModel)등이 있다\n",
        "    *   분자 그래프로만 계산을 수행하여 분자구조에 대한 정보가 사라져 분자구조와 연관된 특성을 알기 어렵다.\n",
        "    *   그로인해 단백질과 같은 거대 분자에는 적합하지 않다.\n",
        "\n",
        "---\n",
        "\n",
        "#용해도 예측 모델"
      ],
      "metadata": {
        "id": "ZOn4tyo_IAYH"
      }
    },
    {
      "cell_type": "code",
      "source": [
        "!pip install -U pip"
      ],
      "metadata": {
        "colab": {
          "base_uri": "https://localhost:8080/"
        },
        "id": "mrQxjrMk7Qd7",
        "outputId": "6a062985-6104-4488-adf6-544d380ebb27"
      },
      "execution_count": null,
      "outputs": [
        {
          "output_type": "stream",
          "name": "stdout",
          "text": [
            "Requirement already satisfied: pip in /usr/local/lib/python3.11/dist-packages (24.1.2)\n",
            "Collecting pip\n",
            "  Downloading pip-25.2-py3-none-any.whl.metadata (4.7 kB)\n",
            "Downloading pip-25.2-py3-none-any.whl (1.8 MB)\n",
            "\u001b[2K   \u001b[90m━━━━━━━━━━━━━━━━━━━━━━━━━━━━━━━━━━━━━━━━\u001b[0m \u001b[32m1.8/1.8 MB\u001b[0m \u001b[31m19.8 MB/s\u001b[0m eta \u001b[36m0:00:00\u001b[0m\n",
            "\u001b[?25hInstalling collected packages: pip\n",
            "  Attempting uninstall: pip\n",
            "    Found existing installation: pip 24.1.2\n",
            "    Uninstalling pip-24.1.2:\n",
            "      Successfully uninstalled pip-24.1.2\n",
            "Successfully installed pip-25.2\n"
          ]
        }
      ]
    },
    {
      "cell_type": "code",
      "source": [
        "!pip install --pre deepchem"
      ],
      "metadata": {
        "colab": {
          "base_uri": "https://localhost:8080/"
        },
        "id": "Uji16CeWoeNb",
        "outputId": "9aec18e6-868a-4231-c344-c735063179ab"
      },
      "execution_count": null,
      "outputs": [
        {
          "output_type": "stream",
          "name": "stdout",
          "text": [
            "Requirement already satisfied: deepchem in /usr/local/lib/python3.11/dist-packages (2.8.1.dev20250829211407)\n",
            "Requirement already satisfied: joblib in /usr/local/lib/python3.11/dist-packages (from deepchem) (1.5.1)\n",
            "Requirement already satisfied: numpy<2 in /usr/local/lib/python3.11/dist-packages (from deepchem) (1.26.4)\n",
            "Requirement already satisfied: pandas in /usr/local/lib/python3.11/dist-packages (from deepchem) (2.2.2)\n",
            "Requirement already satisfied: scikit-learn in /usr/local/lib/python3.11/dist-packages (from deepchem) (1.6.1)\n",
            "Requirement already satisfied: sympy in /usr/local/lib/python3.11/dist-packages (from deepchem) (1.13.1)\n",
            "Requirement already satisfied: scipy>=1.10.1 in /usr/local/lib/python3.11/dist-packages (from deepchem) (1.15.3)\n",
            "Requirement already satisfied: rdkit in /usr/local/lib/python3.11/dist-packages (from deepchem) (2025.3.6)\n",
            "Requirement already satisfied: python-dateutil>=2.8.2 in /usr/local/lib/python3.11/dist-packages (from pandas->deepchem) (2.9.0.post0)\n",
            "Requirement already satisfied: pytz>=2020.1 in /usr/local/lib/python3.11/dist-packages (from pandas->deepchem) (2025.2)\n",
            "Requirement already satisfied: tzdata>=2022.7 in /usr/local/lib/python3.11/dist-packages (from pandas->deepchem) (2025.2)\n",
            "Requirement already satisfied: six>=1.5 in /usr/local/lib/python3.11/dist-packages (from python-dateutil>=2.8.2->pandas->deepchem) (1.17.0)\n",
            "Requirement already satisfied: Pillow in /usr/local/lib/python3.11/dist-packages (from rdkit->deepchem) (11.2.1)\n",
            "Requirement already satisfied: threadpoolctl>=3.1.0 in /usr/local/lib/python3.11/dist-packages (from scikit-learn->deepchem) (3.6.0)\n",
            "Requirement already satisfied: mpmath<1.4,>=1.1.0 in /usr/local/lib/python3.11/dist-packages (from sympy->deepchem) (1.3.0)\n"
          ]
        }
      ]
    },
    {
      "cell_type": "markdown",
      "source": [
        "런타임 재시작 후 다시실행\n"
      ],
      "metadata": {
        "id": "I4rDyzi4_vFf"
      }
    },
    {
      "cell_type": "code",
      "source": [
        "!pip install rdkit"
      ],
      "metadata": {
        "colab": {
          "base_uri": "https://localhost:8080/"
        },
        "id": "564VOYaH7TMq",
        "outputId": "238acc3a-ec22-4abf-c0ba-cbcda5661928"
      },
      "execution_count": null,
      "outputs": [
        {
          "output_type": "stream",
          "name": "stdout",
          "text": [
            "Requirement already satisfied: rdkit in /usr/local/lib/python3.11/dist-packages (2025.3.6)\n",
            "Requirement already satisfied: numpy in /usr/local/lib/python3.11/dist-packages (from rdkit) (1.26.4)\n",
            "Requirement already satisfied: Pillow in /usr/local/lib/python3.11/dist-packages (from rdkit) (11.2.1)\n"
          ]
        }
      ]
    },
    {
      "cell_type": "code",
      "source": [
        "import deepchem as dc\n",
        "from rdkit import Chem\n",
        "import numpy as np\n",
        "import pandas as pd"
      ],
      "metadata": {
        "id": "LAusRNo1EROm",
        "colab": {
          "base_uri": "https://localhost:8080/"
        },
        "outputId": "2169a20e-faa0-4bf3-ccbf-29c6d3a1c405"
      },
      "execution_count": null,
      "outputs": [
        {
          "output_type": "stream",
          "name": "stderr",
          "text": [
            "WARNING:deepchem.feat.molecule_featurizers.rdkit_descriptors:No normalization for SPS. Feature removed!\n",
            "WARNING:deepchem.feat.molecule_featurizers.rdkit_descriptors:No normalization for AvgIpc. Feature removed!\n",
            "WARNING:deepchem.feat.molecule_featurizers.rdkit_descriptors:No normalization for NumAmideBonds. Feature removed!\n",
            "WARNING:deepchem.feat.molecule_featurizers.rdkit_descriptors:No normalization for NumAtomStereoCenters. Feature removed!\n",
            "WARNING:deepchem.feat.molecule_featurizers.rdkit_descriptors:No normalization for NumBridgeheadAtoms. Feature removed!\n",
            "WARNING:deepchem.feat.molecule_featurizers.rdkit_descriptors:No normalization for NumHeterocycles. Feature removed!\n",
            "WARNING:deepchem.feat.molecule_featurizers.rdkit_descriptors:No normalization for NumSpiroAtoms. Feature removed!\n",
            "WARNING:deepchem.feat.molecule_featurizers.rdkit_descriptors:No normalization for NumUnspecifiedAtomStereoCenters. Feature removed!\n",
            "WARNING:deepchem.feat.molecule_featurizers.rdkit_descriptors:No normalization for Phi. Feature removed!\n",
            "\u001b[34m\u001b[1mwandb\u001b[0m: \u001b[33mWARNING\u001b[0m W&B installed but not logged in.  Run `wandb login` or set the WANDB_API_KEY env variable.\n",
            "WARNING:tensorflow:From /usr/local/lib/python3.11/dist-packages/tensorflow/python/util/deprecation.py:588: calling function (from tensorflow.python.eager.polymorphic_function.polymorphic_function) with experimental_relax_shapes is deprecated and will be removed in a future version.\n",
            "Instructions for updating:\n",
            "experimental_relax_shapes is deprecated, use reduce_retracing instead\n",
            "\u001b[34m\u001b[1mwandb\u001b[0m: \u001b[33mWARNING\u001b[0m W&B installed but not logged in.  Run `wandb login` or set the WANDB_API_KEY env variable.\n",
            "WARNING:deepchem.models.torch_models:Skipped loading modules with pytorch-geometric dependency, missing a dependency. No module named 'torch_geometric'\n",
            "WARNING:deepchem.models:Skipped loading modules with pytorch-geometric dependency, missing a dependency. cannot import name 'DMPNN' from 'deepchem.models.torch_models' (/usr/local/lib/python3.11/dist-packages/deepchem/models/torch_models/__init__.py)\n",
            "WARNING:deepchem.models:Skipped loading modules with pytorch-lightning dependency, missing a dependency. No module named 'lightning'\n",
            "WARNING:deepchem.models:Skipped loading some Jax models, missing a dependency. No module named 'haiku'\n"
          ]
        }
      ]
    },
    {
      "cell_type": "code",
      "source": [
        "!pip install \"keras<3\" \"tensorflow<2.16\""
      ],
      "metadata": {
        "colab": {
          "base_uri": "https://localhost:8080/"
        },
        "id": "FcTvyGu094kD",
        "outputId": "fb9d92f3-b97e-4863-e30a-cd3c00087def"
      },
      "execution_count": null,
      "outputs": [
        {
          "output_type": "stream",
          "name": "stdout",
          "text": [
            "\u001b[33mWARNING: Ignoring invalid distribution ~ensorflow (/usr/local/lib/python3.11/dist-packages)\u001b[0m\u001b[33m\n",
            "\u001b[0m\u001b[33mWARNING: Ignoring invalid distribution ~ensorflow (/usr/local/lib/python3.11/dist-packages)\u001b[0m\u001b[33m\n",
            "\u001b[0mRequirement already satisfied: keras<3 in /usr/local/lib/python3.11/dist-packages (2.15.0)\n",
            "Requirement already satisfied: tensorflow<2.16 in /usr/local/lib/python3.11/dist-packages (2.15.1)\n",
            "Requirement already satisfied: absl-py>=1.0.0 in /usr/local/lib/python3.11/dist-packages (from tensorflow<2.16) (1.4.0)\n",
            "Requirement already satisfied: astunparse>=1.6.0 in /usr/local/lib/python3.11/dist-packages (from tensorflow<2.16) (1.6.3)\n",
            "Requirement already satisfied: flatbuffers>=23.5.26 in /usr/local/lib/python3.11/dist-packages (from tensorflow<2.16) (25.2.10)\n",
            "Requirement already satisfied: gast!=0.5.0,!=0.5.1,!=0.5.2,>=0.2.1 in /usr/local/lib/python3.11/dist-packages (from tensorflow<2.16) (0.6.0)\n",
            "Requirement already satisfied: google-pasta>=0.1.1 in /usr/local/lib/python3.11/dist-packages (from tensorflow<2.16) (0.2.0)\n",
            "Requirement already satisfied: h5py>=2.9.0 in /usr/local/lib/python3.11/dist-packages (from tensorflow<2.16) (3.14.0)\n",
            "Requirement already satisfied: libclang>=13.0.0 in /usr/local/lib/python3.11/dist-packages (from tensorflow<2.16) (18.1.1)\n",
            "Requirement already satisfied: ml-dtypes~=0.3.1 in /usr/local/lib/python3.11/dist-packages (from tensorflow<2.16) (0.3.2)\n",
            "Requirement already satisfied: numpy<2.0.0,>=1.23.5 in /usr/local/lib/python3.11/dist-packages (from tensorflow<2.16) (1.26.4)\n",
            "Requirement already satisfied: opt-einsum>=2.3.2 in /usr/local/lib/python3.11/dist-packages (from tensorflow<2.16) (3.4.0)\n",
            "Requirement already satisfied: packaging in /usr/local/lib/python3.11/dist-packages (from tensorflow<2.16) (24.2)\n",
            "Requirement already satisfied: protobuf!=4.21.0,!=4.21.1,!=4.21.2,!=4.21.3,!=4.21.4,!=4.21.5,<5.0.0dev,>=3.20.3 in /usr/local/lib/python3.11/dist-packages (from tensorflow<2.16) (4.25.8)\n",
            "Requirement already satisfied: setuptools in /usr/local/lib/python3.11/dist-packages (from tensorflow<2.16) (75.2.0)\n",
            "Requirement already satisfied: six>=1.12.0 in /usr/local/lib/python3.11/dist-packages (from tensorflow<2.16) (1.17.0)\n",
            "Requirement already satisfied: termcolor>=1.1.0 in /usr/local/lib/python3.11/dist-packages (from tensorflow<2.16) (3.1.0)\n",
            "Requirement already satisfied: typing-extensions>=3.6.6 in /usr/local/lib/python3.11/dist-packages (from tensorflow<2.16) (4.14.1)\n",
            "Requirement already satisfied: wrapt<1.15,>=1.11.0 in /usr/local/lib/python3.11/dist-packages (from tensorflow<2.16) (1.14.2)\n",
            "Requirement already satisfied: tensorflow-io-gcs-filesystem>=0.23.1 in /usr/local/lib/python3.11/dist-packages (from tensorflow<2.16) (0.37.1)\n",
            "Requirement already satisfied: grpcio<2.0,>=1.24.3 in /usr/local/lib/python3.11/dist-packages (from tensorflow<2.16) (1.73.1)\n",
            "Requirement already satisfied: tensorboard<2.16,>=2.15 in /usr/local/lib/python3.11/dist-packages (from tensorflow<2.16) (2.15.2)\n",
            "Requirement already satisfied: tensorflow-estimator<2.16,>=2.15.0 in /usr/local/lib/python3.11/dist-packages (from tensorflow<2.16) (2.15.0)\n",
            "Requirement already satisfied: google-auth<3,>=1.6.3 in /usr/local/lib/python3.11/dist-packages (from tensorboard<2.16,>=2.15->tensorflow<2.16) (2.38.0)\n",
            "Requirement already satisfied: google-auth-oauthlib<2,>=0.5 in /usr/local/lib/python3.11/dist-packages (from tensorboard<2.16,>=2.15->tensorflow<2.16) (1.2.2)\n",
            "Requirement already satisfied: markdown>=2.6.8 in /usr/local/lib/python3.11/dist-packages (from tensorboard<2.16,>=2.15->tensorflow<2.16) (3.8.2)\n",
            "Requirement already satisfied: requests<3,>=2.21.0 in /usr/local/lib/python3.11/dist-packages (from tensorboard<2.16,>=2.15->tensorflow<2.16) (2.32.3)\n",
            "Requirement already satisfied: tensorboard-data-server<0.8.0,>=0.7.0 in /usr/local/lib/python3.11/dist-packages (from tensorboard<2.16,>=2.15->tensorflow<2.16) (0.7.2)\n",
            "Requirement already satisfied: werkzeug>=1.0.1 in /usr/local/lib/python3.11/dist-packages (from tensorboard<2.16,>=2.15->tensorflow<2.16) (3.1.3)\n",
            "Requirement already satisfied: cachetools<6.0,>=2.0.0 in /usr/local/lib/python3.11/dist-packages (from google-auth<3,>=1.6.3->tensorboard<2.16,>=2.15->tensorflow<2.16) (5.5.2)\n",
            "Requirement already satisfied: pyasn1-modules>=0.2.1 in /usr/local/lib/python3.11/dist-packages (from google-auth<3,>=1.6.3->tensorboard<2.16,>=2.15->tensorflow<2.16) (0.4.2)\n",
            "Requirement already satisfied: rsa<5,>=3.1.4 in /usr/local/lib/python3.11/dist-packages (from google-auth<3,>=1.6.3->tensorboard<2.16,>=2.15->tensorflow<2.16) (4.9.1)\n",
            "Requirement already satisfied: requests-oauthlib>=0.7.0 in /usr/local/lib/python3.11/dist-packages (from google-auth-oauthlib<2,>=0.5->tensorboard<2.16,>=2.15->tensorflow<2.16) (2.0.0)\n",
            "Requirement already satisfied: charset-normalizer<4,>=2 in /usr/local/lib/python3.11/dist-packages (from requests<3,>=2.21.0->tensorboard<2.16,>=2.15->tensorflow<2.16) (3.4.2)\n",
            "Requirement already satisfied: idna<4,>=2.5 in /usr/local/lib/python3.11/dist-packages (from requests<3,>=2.21.0->tensorboard<2.16,>=2.15->tensorflow<2.16) (3.10)\n",
            "Requirement already satisfied: urllib3<3,>=1.21.1 in /usr/local/lib/python3.11/dist-packages (from requests<3,>=2.21.0->tensorboard<2.16,>=2.15->tensorflow<2.16) (2.4.0)\n",
            "Requirement already satisfied: certifi>=2017.4.17 in /usr/local/lib/python3.11/dist-packages (from requests<3,>=2.21.0->tensorboard<2.16,>=2.15->tensorflow<2.16) (2025.7.14)\n",
            "Requirement already satisfied: pyasn1>=0.1.3 in /usr/local/lib/python3.11/dist-packages (from rsa<5,>=3.1.4->google-auth<3,>=1.6.3->tensorboard<2.16,>=2.15->tensorflow<2.16) (0.6.1)\n",
            "Requirement already satisfied: wheel<1.0,>=0.23.0 in /usr/local/lib/python3.11/dist-packages (from astunparse>=1.6.0->tensorflow<2.16) (0.45.1)\n",
            "Requirement already satisfied: oauthlib>=3.0.0 in /usr/local/lib/python3.11/dist-packages (from requests-oauthlib>=0.7.0->google-auth-oauthlib<2,>=0.5->tensorboard<2.16,>=2.15->tensorflow<2.16) (3.3.1)\n",
            "Requirement already satisfied: MarkupSafe>=2.1.1 in /usr/local/lib/python3.11/dist-packages (from werkzeug>=1.0.1->tensorboard<2.16,>=2.15->tensorflow<2.16) (3.0.2)\n",
            "\u001b[33mWARNING: Ignoring invalid distribution ~ensorflow (/usr/local/lib/python3.11/dist-packages)\u001b[0m\u001b[33m\n",
            "\u001b[0m\u001b[33mWARNING: Ignoring invalid distribution ~ensorflow (/usr/local/lib/python3.11/dist-packages)\u001b[0m\u001b[33m\n",
            "\u001b[0m"
          ]
        }
      ]
    },
    {
      "cell_type": "code",
      "source": [
        "from deepchem.models import GraphConvModel"
      ],
      "metadata": {
        "id": "Z6Mk-SGI9C-O"
      },
      "execution_count": null,
      "outputs": []
    },
    {
      "cell_type": "code",
      "source": [
        "tasks, dataset, transformers = dc.molnet.load_delaney(featurizer='GraphConv')\n",
        "train_dataset, valid_dataset, test_dataset = dataset"
      ],
      "metadata": {
        "id": "veJy2QHoIF38",
        "collapsed": true
      },
      "execution_count": null,
      "outputs": []
    },
    {
      "cell_type": "code",
      "source": [
        "model = GraphConvModel(n_tasks=1, mode='regression', dropout=0.2)\n",
        "model.fit(train_dataset, nb_epoch=100)"
      ],
      "metadata": {
        "colab": {
          "base_uri": "https://localhost:8080/"
        },
        "id": "hDuo2qRu8o3t",
        "outputId": "5f156091-10c4-4601-f2af-936cbc24d51a"
      },
      "execution_count": null,
      "outputs": [
        {
          "output_type": "execute_result",
          "data": {
            "text/plain": [
              "0.109276704788208"
            ]
          },
          "metadata": {},
          "execution_count": 5
        }
      ]
    },
    {
      "cell_type": "code",
      "source": [
        "metric = dc.metrics.Metric(dc.metrics.pearson_r2_score)\n",
        "print(model.evaluate(train_dataset, [metric], transformers))\n",
        "print(model.evaluate(test_dataset, [metric], transformers))"
      ],
      "metadata": {
        "colab": {
          "base_uri": "https://localhost:8080/"
        },
        "id": "RrvF7vEH88f-",
        "outputId": "459b3304-9e27-4682-f3a3-439f09db55e3"
      },
      "execution_count": null,
      "outputs": [
        {
          "output_type": "stream",
          "name": "stdout",
          "text": [
            "{'pearson_r2_score': 0.929473218210296}\n",
            "{'pearson_r2_score': 0.6941252526853812}\n"
          ]
        }
      ]
    },
    {
      "cell_type": "code",
      "source": [
        "# 교재 오타\n",
        "'''\n",
        "smiles = [\n",
        "    'COC(C)CCCC(C)CC=CC(C)=CC(=O)OC(C)C',\n",
        "    'CCOC(=O)CC',\n",
        "    'CSc1nc(NC(C)C)nc(NC(C)C)n1',\n",
        "    'CC(C#C)N(C)C(=O)Nc1ccc(C1)cc1',\n",
        "    'Cc1cc2ccccc2cc1C'\n",
        "]\n",
        "'''"
      ],
      "metadata": {
        "id": "0xYWFdw2_mqD"
      },
      "execution_count": null,
      "outputs": []
    },
    {
      "cell_type": "code",
      "source": [
        "# GPT 코드 오류 확인\n",
        "# 하지만 SMILES에 오타가 있지 않을까 싶어 확인하니 교재 오타로 인한 오류\n",
        "'''\n",
        "# 1) 유효 SMILES만 남기기\n",
        "valid_smiles = []\n",
        "for s in smiles:\n",
        "    m = Chem.MolFromSmiles(s)\n",
        "    if m is not None:\n",
        "        valid_smiles.append(s)\n",
        "\n",
        "# 2) ConvMol로 피처화 (numpy object 배열 -> 파이썬 리스트로 변환)\n",
        "featurizer = dc.feat.ConvMolFeaturizer()\n",
        "X_obj_array = featurizer.featurize(valid_smiles)  # dtype=object numpy array of ConvMol\n",
        "X_list = X_obj_array.tolist()                     # <- 중요: 파이썬 리스트로\n",
        "\n",
        "# 3-A) 바로 배치 예측\n",
        "pred_batch = model.predict_on_batch(X_list)       # OK\n",
        "\n",
        "# (또는)\n",
        "# 3-B) Dataset 만들어 predict (더 일반적)\n",
        "import numpy as np\n",
        "dummy_y = np.zeros((len(X_list), 1), dtype=float) # 회귀 1-task 예시\n",
        "dataset = dc.data.NumpyDataset(X=X_list, y=dummy_y)\n",
        "pred = model.predict(dataset)\n",
        "'''"
      ],
      "metadata": {
        "colab": {
          "base_uri": "https://localhost:8080/",
          "height": 90
        },
        "collapsed": true,
        "id": "ntrQhsNxBkgL",
        "outputId": "5fb2c975-b503-4682-c4a1-c1cc2fc10e49"
      },
      "execution_count": null,
      "outputs": [
        {
          "output_type": "execute_result",
          "data": {
            "text/plain": [
              "'\\n# 1) 유효 SMILES만 남기기\\nvalid_smiles = []\\nfor s in smiles:\\n    m = Chem.MolFromSmiles(s)\\n    if m is not None:\\n        valid_smiles.append(s)\\n\\n# 2) ConvMol로 피처화 (numpy object 배열 -> 파이썬 리스트로 변환)\\nfeaturizer = dc.feat.ConvMolFeaturizer()\\nX_obj_array = featurizer.featurize(valid_smiles)  # dtype=object numpy array of ConvMol\\nX_list = X_obj_array.tolist()                     # <- 중요: 파이썬 리스트로\\n\\n# 3-A) 바로 배치 예측\\npred_batch = model.predict_on_batch(X_list)       # OK\\n\\n# (또는)\\n# 3-B) Dataset 만들어 predict (더 일반적)\\nimport numpy as np\\ndummy_y = np.zeros((len(X_list), 1), dtype=float) # 회귀 1-task 예시\\ndataset = dc.data.NumpyDataset(X=X_list, y=dummy_y)\\npred = model.predict(dataset)\\n'"
            ],
            "application/vnd.google.colaboratory.intrinsic+json": {
              "type": "string"
            }
          },
          "metadata": {},
          "execution_count": 27
        }
      ]
    },
    {
      "cell_type": "code",
      "source": [
        "smiles = [\n",
        "    'COC(C)CCCC(C)CC=CC(C)=CC(=O)OC(C)C',\n",
        "    'CCOC(=O)CC',\n",
        "    'CSc1nc(NC(C)C)nc(NC(C)C)n1',\n",
        "    'CC(C#C)N(C)C(=O)Nc1ccc(C)cc1',\n",
        "    'Cc1cc2ccccc2cc1C'\n",
        "]"
      ],
      "metadata": {
        "id": "o2WAJFXiGtN3"
      },
      "execution_count": null,
      "outputs": []
    },
    {
      "cell_type": "code",
      "source": [
        "mols = [Chem.MolFromSmiles(s) for s in smiles]\n",
        "featurizer = dc.feat.ConvMolFeaturizer()\n",
        "x = featurizer.featurize(mols)"
      ],
      "metadata": {
        "colab": {
          "base_uri": "https://localhost:8080/"
        },
        "collapsed": true,
        "id": "-2gAgZpH_AzI",
        "outputId": "895866b0-da09-4478-9112-4f7d4966c486"
      },
      "execution_count": null,
      "outputs": [
        {
          "output_type": "stream",
          "name": "stderr",
          "text": [
            "[05:59:12] DEPRECATION WARNING: please use GetValence(getExplicit=False)\n",
            "[05:59:12] DEPRECATION WARNING: please use GetValence(getExplicit=False)\n",
            "[05:59:12] DEPRECATION WARNING: please use GetValence(getExplicit=False)\n",
            "[05:59:12] DEPRECATION WARNING: please use GetValence(getExplicit=False)\n",
            "[05:59:12] DEPRECATION WARNING: please use GetValence(getExplicit=False)\n",
            "[05:59:12] DEPRECATION WARNING: please use GetValence(getExplicit=False)\n",
            "[05:59:12] DEPRECATION WARNING: please use GetValence(getExplicit=False)\n",
            "[05:59:12] DEPRECATION WARNING: please use GetValence(getExplicit=False)\n",
            "[05:59:12] DEPRECATION WARNING: please use GetValence(getExplicit=False)\n",
            "[05:59:12] DEPRECATION WARNING: please use GetValence(getExplicit=False)\n",
            "[05:59:12] DEPRECATION WARNING: please use GetValence(getExplicit=False)\n",
            "[05:59:12] DEPRECATION WARNING: please use GetValence(getExplicit=False)\n",
            "[05:59:12] DEPRECATION WARNING: please use GetValence(getExplicit=False)\n",
            "[05:59:12] DEPRECATION WARNING: please use GetValence(getExplicit=False)\n",
            "[05:59:12] DEPRECATION WARNING: please use GetValence(getExplicit=False)\n",
            "[05:59:12] DEPRECATION WARNING: please use GetValence(getExplicit=False)\n",
            "[05:59:12] DEPRECATION WARNING: please use GetValence(getExplicit=False)\n",
            "[05:59:12] DEPRECATION WARNING: please use GetValence(getExplicit=False)\n",
            "[05:59:12] DEPRECATION WARNING: please use GetValence(getExplicit=False)\n",
            "[05:59:12] DEPRECATION WARNING: please use GetValence(getExplicit=False)\n",
            "[05:59:12] DEPRECATION WARNING: please use GetValence(getExplicit=False)\n",
            "[05:59:12] DEPRECATION WARNING: please use GetValence(getExplicit=False)\n",
            "[05:59:12] DEPRECATION WARNING: please use GetValence(getExplicit=False)\n",
            "[05:59:12] DEPRECATION WARNING: please use GetValence(getExplicit=False)\n",
            "[05:59:12] DEPRECATION WARNING: please use GetValence(getExplicit=False)\n",
            "[05:59:12] DEPRECATION WARNING: please use GetValence(getExplicit=False)\n",
            "[05:59:12] DEPRECATION WARNING: please use GetValence(getExplicit=False)\n",
            "[05:59:12] DEPRECATION WARNING: please use GetValence(getExplicit=False)\n",
            "[05:59:12] DEPRECATION WARNING: please use GetValence(getExplicit=False)\n",
            "[05:59:12] DEPRECATION WARNING: please use GetValence(getExplicit=False)\n",
            "[05:59:12] DEPRECATION WARNING: please use GetValence(getExplicit=False)\n",
            "[05:59:12] DEPRECATION WARNING: please use GetValence(getExplicit=False)\n",
            "[05:59:12] DEPRECATION WARNING: please use GetValence(getExplicit=False)\n",
            "[05:59:12] DEPRECATION WARNING: please use GetValence(getExplicit=False)\n",
            "[05:59:12] DEPRECATION WARNING: please use GetValence(getExplicit=False)\n",
            "[05:59:12] DEPRECATION WARNING: please use GetValence(getExplicit=False)\n",
            "[05:59:12] DEPRECATION WARNING: please use GetValence(getExplicit=False)\n",
            "[05:59:12] DEPRECATION WARNING: please use GetValence(getExplicit=False)\n",
            "[05:59:12] DEPRECATION WARNING: please use GetValence(getExplicit=False)\n",
            "[05:59:12] DEPRECATION WARNING: please use GetValence(getExplicit=False)\n",
            "[05:59:12] DEPRECATION WARNING: please use GetValence(getExplicit=False)\n",
            "[05:59:12] DEPRECATION WARNING: please use GetValence(getExplicit=False)\n",
            "[05:59:12] DEPRECATION WARNING: please use GetValence(getExplicit=False)\n",
            "[05:59:12] DEPRECATION WARNING: please use GetValence(getExplicit=False)\n",
            "[05:59:12] DEPRECATION WARNING: please use GetValence(getExplicit=False)\n",
            "[05:59:12] DEPRECATION WARNING: please use GetValence(getExplicit=False)\n",
            "[05:59:12] DEPRECATION WARNING: please use GetValence(getExplicit=False)\n",
            "[05:59:12] DEPRECATION WARNING: please use GetValence(getExplicit=False)\n",
            "[05:59:12] DEPRECATION WARNING: please use GetValence(getExplicit=False)\n",
            "[05:59:12] DEPRECATION WARNING: please use GetValence(getExplicit=False)\n",
            "[05:59:12] DEPRECATION WARNING: please use GetValence(getExplicit=False)\n",
            "[05:59:12] DEPRECATION WARNING: please use GetValence(getExplicit=False)\n",
            "[05:59:12] DEPRECATION WARNING: please use GetValence(getExplicit=False)\n",
            "[05:59:12] DEPRECATION WARNING: please use GetValence(getExplicit=False)\n",
            "[05:59:12] DEPRECATION WARNING: please use GetValence(getExplicit=False)\n",
            "[05:59:12] DEPRECATION WARNING: please use GetValence(getExplicit=False)\n",
            "[05:59:12] DEPRECATION WARNING: please use GetValence(getExplicit=False)\n",
            "[05:59:12] DEPRECATION WARNING: please use GetValence(getExplicit=False)\n",
            "[05:59:12] DEPRECATION WARNING: please use GetValence(getExplicit=False)\n",
            "[05:59:12] DEPRECATION WARNING: please use GetValence(getExplicit=False)\n",
            "[05:59:12] DEPRECATION WARNING: please use GetValence(getExplicit=False)\n",
            "[05:59:12] DEPRECATION WARNING: please use GetValence(getExplicit=False)\n",
            "[05:59:12] DEPRECATION WARNING: please use GetValence(getExplicit=False)\n",
            "[05:59:12] DEPRECATION WARNING: please use GetValence(getExplicit=False)\n",
            "[05:59:12] DEPRECATION WARNING: please use GetValence(getExplicit=False)\n",
            "[05:59:12] DEPRECATION WARNING: please use GetValence(getExplicit=False)\n",
            "[05:59:12] DEPRECATION WARNING: please use GetValence(getExplicit=False)\n",
            "[05:59:12] DEPRECATION WARNING: please use GetValence(getExplicit=False)\n",
            "[05:59:12] DEPRECATION WARNING: please use GetValence(getExplicit=False)\n",
            "[05:59:12] DEPRECATION WARNING: please use GetValence(getExplicit=False)\n",
            "[05:59:12] DEPRECATION WARNING: please use GetValence(getExplicit=False)\n",
            "[05:59:12] DEPRECATION WARNING: please use GetValence(getExplicit=False)\n"
          ]
        }
      ]
    },
    {
      "cell_type": "code",
      "source": [
        "predicted_solubility = model.predict_on_batch(x)"
      ],
      "metadata": {
        "id": "Aya8iOwnAX7e"
      },
      "execution_count": null,
      "outputs": []
    },
    {
      "cell_type": "code",
      "source": [
        "print(predicted_solubility[:5])"
      ],
      "metadata": {
        "colab": {
          "base_uri": "https://localhost:8080/"
        },
        "id": "DhrYNf65HgYX",
        "outputId": "0ea78084-f503-4f99-cc39-5630374e6528"
      },
      "execution_count": null,
      "outputs": [
        {
          "output_type": "stream",
          "name": "stdout",
          "text": [
            "[[-0.4332351]\n",
            " [ 1.6712149]\n",
            " [-0.0224819]\n",
            " [ 0.2993381]\n",
            " [-0.855441 ]]\n"
          ]
        }
      ]
    },
    {
      "cell_type": "markdown",
      "source": [
        "# SMARTS 문자열\n",
        "주로 사용 할때\n",
        "*   분자 데이터베이스에서 특정 구조를 포함하는 분자를 검색\n",
        "*   공통된 구조를 가진 분자들의 집합을 정렬해 시각화\n",
        "*   그림에서 하위 구조를 강조\n",
        "*   특정 구졸르 제외한 계산 값이 필요할 때\n",
        "\n",
        "SMARTS는 정규표현식과 비슷한 목적으로 만들어 졌다."
      ],
      "metadata": {
        "id": "s9FuSyc9Kwp5"
      }
    },
    {
      "cell_type": "code",
      "source": [
        "from rdkit import Chem\n",
        "from rdkit.Chem.Draw import MolsToGridImage\n",
        "\n",
        "# 특정 분자들을 그리기\n",
        "smiles_list = [\"CCCCC\", \"CCOCC\",\"CCNCC\",\"CCSCC\"]\n",
        "mol_list = [Chem.MolFromSmiles(x) for x in smiles_list]\n",
        "img = MolsToGridImage(mol_list, molsPerRow=2, subImgSize=(200,200))"
      ],
      "metadata": {
        "id": "SNv01TTMNAj0"
      },
      "execution_count": null,
      "outputs": []
    },
    {
      "cell_type": "code",
      "source": [
        "img"
      ],
      "metadata": {
        "colab": {
          "base_uri": "https://localhost:8080/",
          "height": 417
        },
        "id": "2QDgOAdWNcM0",
        "outputId": "67b6e2c6-b469-4992-9e4c-ede7ad2c9e97"
      },
      "execution_count": null,
      "outputs": [
        {
          "output_type": "execute_result",
          "data": {
            "image/png": "[encoded data removed]",
            "text/plain": [
              "<IPython.core.display.Image object>"
            ]
          },
          "metadata": {},
          "execution_count": 31
        }
      ]
    },
    {
      "cell_type": "code",
      "source": [
        "# 교재 예문\n",
        "## GetSubstructMatch()와 GetSubstructMatches() 두가지 존재, GetSubstructMatch()는 맨 처음 한개만 반환, GetSubstructMatches()는 모든 값을 찾아 튜플로 반환\n",
        "query = Chem.MolFromSmarts(\"CCC\")\n",
        "match_list = [mol.GetSubstructMatch(query) for mol in mol_list]\n",
        "MolsToGridImage(mols=mol_list, molsPerRow=4, highlightAtomLists=match_list)"
      ],
      "metadata": {
        "colab": {
          "base_uri": "https://localhost:8080/",
          "height": 217
        },
        "collapsed": true,
        "id": "_m9rR-i-NssT",
        "outputId": "b3028f09-44f5-453e-e598-dce1624f971c"
      },
      "execution_count": null,
      "outputs": [
        {
          "output_type": "execute_result",
          "data": {
            "image/png": "[encoded data removed]",
            "text/plain": [
              "<IPython.core.display.Image object>"
            ]
          },
          "metadata": {},
          "execution_count": 38
        }
      ]
    },
    {
      "cell_type": "code",
      "source": [
        "# C와 C 사이 원자가 있는 집합을 찾을 수 있음\n",
        "query = Chem.MolFromSmarts(\"C*C\")\n",
        "match_list = [mol.GetSubstructMatch(query) for mol in mol_list]\n",
        "MolsToGridImage(mols=mol_list, molsPerRow=4, highlightAtomLists=match_list)"
      ],
      "metadata": {
        "colab": {
          "base_uri": "https://localhost:8080/",
          "height": 217
        },
        "id": "1QVfdbkbU41g",
        "outputId": "d09b3702-38ec-419d-fd94-1de5ccbdf092"
      },
      "execution_count": null,
      "outputs": [
        {
          "output_type": "execute_result",
          "data": {
            "image/png": "[encoded data removed]",
            "text/plain": [
              "<IPython.core.display.Image object>"
            ]
          },
          "metadata": {},
          "execution_count": 39
        }
      ]
    },
    {
      "cell_type": "markdown",
      "source": [
        "#4장의 추가 학습 세션 by [GPT](https://chatgpt.com/share/68c913ff-e548-8001-9c4d-5530ab54a8fb)\n",
        "\n",
        "\n",
        "# 🎓 GCN(Graph Convolutional Network) 학습 세션\n",
        "\n",
        "## 📘 4장 개요 – 분자 표현과 그래프 신경망(GNN)\n",
        "\n",
        "### 1. 학습 목표\n",
        "- 분자 구조를 **그래프**로 표현하는 이유와 방법 이해  \n",
        "- **Graph Convolutional Network(GCN)**의 핵심 아이디어와 수식 파악  \n",
        "- 분자 독성 예측(Tox21) 데이터셋을 예로 들어 간단한 GCN 모델 구현  \n",
        "\n",
        "### 2. 실생활·생명과학 응용 사례\n",
        "- 신약 개발: 후보 물질의 독성, 활성 예측  \n",
        "- 단백질-리간드 상호작용 예측  \n",
        "- 화합물 특성(용해도, 친수성 등) 예측  \n",
        "\n",
        "### 3. 필요한 선행지식\n",
        "- 분자생물학: 화학 결합·분자 구조식(C, N, O 등 원자 기호와 결합)  \n",
        "- 파이썬: 함수·클래스·리스트·딕셔너리  \n",
        "- 수학: 행렬 곱셈, 합성 함수, 기본 확률 통계  \n",
        "\n",
        "---\n",
        "\n",
        "## 🧠 개념: GCN 정의\n",
        "**GCN(Graph Convolutional Network)**는 **그래프 구조 데이터**에서 노드의 특징을 이웃의 정보로 업데이트하여 더 풍부한 표현을 학습하는 **신경망**입니다.\n",
        "\n",
        "### 메시지 패싱 관점\n",
        "1. **메시지 계산**: 이웃 노드로부터 정보를 가져옴  \n",
        "2. **집계(AGGREGATE)**: 이웃의 정보를 평균/합산  \n",
        "3. **업데이트(UPDATE)**: 자신의 특징과 결합해 새로운 특징 생성  \n",
        "\n",
        "---\n",
        "\n",
        "## GCN 핵심 수식\n",
        "\n",
        "$$\n",
        "H^{(l+1)} = \\sigma\\!\\left(\\tilde{D}^{-1/2}\\tilde{A}\\tilde{D}^{-1/2} \\, H^{(l)} \\, W^{(l)} + b^{(l)}\\right)\n",
        "$$\n",
        "\n",
        "- $\\tilde{A} = A + I$: Self-loop 추가  \n",
        "- $\\tilde{D}$: 차수 행렬  \n",
        "- $H^{(l)}$: $l$층의 노드 특징  \n",
        "- $W^{(l)}$: 가중치  \n",
        "- $\\sigma$: 활성화 함수 (예: ReLU)\n",
        "\n",
        "\n",
        "---\n",
        "\n",
        "## 🔬 코드 예제: 최소 GCN 레이어\n",
        "\n",
        "### 설치\n",
        "```bash\n",
        "pip install torch numpy networkx matplotlib\n"
      ],
      "metadata": {
        "id": "cFKGfDc7afht"
      }
    },
    {
      "cell_type": "markdown",
      "source": [
        "##GCN 레이어 구현"
      ],
      "metadata": {
        "id": "DOK1XQ6WcWfy"
      }
    },
    {
      "cell_type": "code",
      "source": [
        "import torch\n",
        "import torch.nn as nn\n",
        "\n",
        "class GCNLayer(nn.Module):\n",
        "    def __init__(self, in_dim, out_dim, bias=True):\n",
        "        super().__init__()\n",
        "        self.weight = nn.Parameter(torch.randn(in_dim, out_dim) * 0.01)\n",
        "        self.bias = nn.Parameter(torch.zeros(out_dim)) if bias else None\n",
        "\n",
        "    def forward(self, X, A):\n",
        "        I = torch.eye(A.size(0), device=A.device)\n",
        "        A_tilde = A + I\n",
        "        D_tilde_inv_sqrt = torch.diag(torch.pow(A_tilde.sum(dim=1), -0.5))\n",
        "        A_hat = D_tilde_inv_sqrt @ A_tilde @ D_tilde_inv_sqrt\n",
        "\n",
        "        out = A_hat @ X @ self.weight\n",
        "        if self.bias is not None:\n",
        "            out = out + self.bias\n",
        "        return out\n",
        "\n",
        "# 테스트 그래프\n",
        "A = torch.tensor([\n",
        "    [0,1,0,0],\n",
        "    [1,0,1,0],\n",
        "    [0,1,0,1],\n",
        "    [0,0,1,0]\n",
        "], dtype=torch.float32)\n",
        "\n",
        "X = torch.tensor([\n",
        "    [1.0, 0.5],\n",
        "    [0.3, 0.2],\n",
        "    [0.0, 1.0],\n",
        "    [0.8, 0.1]\n",
        "], dtype=torch.float32)\n",
        "\n",
        "gcn = GCNLayer(2, 3)\n",
        "H1 = torch.relu(gcn(X, A))\n",
        "print(H1)\n"
      ],
      "metadata": {
        "id": "6BwvJPm_a5lv"
      },
      "execution_count": null,
      "outputs": []
    }
  ]
}