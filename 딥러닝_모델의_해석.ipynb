{
  "nbformat": 4,
  "nbformat_minor": 0,
  "metadata": {
    "colab": {
      "provenance": [],
      "runtime_attributes": {
        "runtime_version": "2025.07"
      },
      "authorship_tag": "ABX9TyPvWqiqrqNnevIpR9mQz23B",
      "include_colab_link": true
    },
    "kernelspec": {
      "name": "python3",
      "display_name": "Python 3"
    },
    "language_info": {
      "name": "python"
    }
  },
  "cells": [
    {
      "cell_type": "markdown",
      "metadata": {
        "id": "view-in-github",
        "colab_type": "text"
      },
      "source": [
        "<a href=\"https://colab.research.google.com/github/keulreobeu/deep_learning_for_the_life_sciences/blob/main/%EB%94%A5%EB%9F%AC%EB%8B%9D_%EB%AA%A8%EB%8D%B8%EC%9D%98_%ED%95%B4%EC%84%9D.ipynb\" target=\"_parent\"><img src=\"https://colab.research.google.com/assets/colab-badge.svg\" alt=\"Open In Colab\"/></a>"
      ]
    },
    {
      "cell_type": "markdown",
      "source": [
        "# 예측값 설명하기\n",
        "*   예를들어 자동차, 배, 비행기를 구분하는 모델이 있다고 하자\n",
        "*   그 모델이 자동차, 배, 비행기를 각각의 물체를 보고 구분하는것 뿐만아니라 배 주변의 바다, 비행기 주변의 하늘, 자동차 주변의 도로 등 다른 요소로 구분을 하면 해안가를 지나는 자동차를 구분을 못할 수 있고\n",
        "\n",
        "*   또한 모델이 사진의 세부 사항에 지나치게 집착하여 사진속 자동차의 번호판, 배의 구명조끼등을 구분하면 수영장을 지나는 자동차를 구분하지 못할 수 있다.\n",
        "\n",
        "*   실제 사용시 모델의 효율성이 떨어지게 된다, 즉 모델이 어떤 방식으로 예측을 하는지 아는것은 매우 중요하다.\n",
        "*   즉 올바른 이유로 올바른 대답을 제공하는지 판단이 필요하다.\n",
        "*   하지만 딥러닝은 입력과 출력 사이에 매우 많은 레이어 층이 있어, 이러한 모델의 복잡성은 인간의 이해력을 뛰어넘는다.\n",
        "*   딥러닝 모델을 이해하기 위해 많은 방법이 발명되었다\n",
        "\n",
        "### 돌출맵(saliency map)\n",
        "*   돌출맵은 입력 이미지의 어느 부분이 출력값에 중요한지 찾는 것\n",
        "*   타겟의 전체가 사용도어야 옮바르지만, 모델의 출력은 매우 복잡한 비선형 함수의 결과값이고, 실제로도 이미지의 특정 부분이 다른 부분보다 중요하게 작용하는 것이다.\n",
        "\n"
      ],
      "metadata": {
        "id": "WgUV8XbGUPN5"
      }
    },
    {
      "cell_type": "code",
      "execution_count": null,
      "metadata": {
        "id": "qqgOTyhdbnp7"
      },
      "outputs": [],
      "source": [
        "# 구버전 코드\n",
        "\n",
        "import deepchem as dc\n",
        "import numpy as np\n",
        "from model import DRModel\n",
        "from data import load_images_DR\n",
        "\n",
        "# 데이터 로드 & 저장된 모델 불러오기\n",
        "train, valid, test = load_images_DR(split='random', seed=123)\n",
        "model = DRModel(n_init_kernel=32, augment=False, model_dir='test_model')\n",
        "model.restore()\n",
        "\n",
        "# 예측 진행\n",
        "x = test.x\n",
        "y = test.y\n",
        "for i in range(10):\n",
        "    prediction = np.argmax(model.predict_on_batch(x[i]))\n",
        "    print('True class: %d, Predicted class: %d' % (y[i], prediction))\n",
        "\n",
        "\n",
        "# 돌출맵 이미지\n",
        "saliency = model.compute_saliency(x[0])\n",
        "print(saliency.shape)\n",
        "\n",
        "sal_map = np.sum(np.abs(saliency), axis=(0, 3))\n",
        "sal_map -= np.min(sal_map)\n",
        "sal_map /= np.max(sal_map)\n",
        "\n"
      ]
    },
    {
      "cell_type": "markdown",
      "source": [
        "# 입력값 최적화\n",
        "*   돌출맵을 이용하면 자동차 사진을 식별하는 모델이 자동차를 구성하는 필셀 기반을 객체를 파악했으며, 배경을 통해 식별하지 않았다를 확인할 수 있었다.\n",
        "*   머신러닝 모델은 어떻게 그 필셀이 자동차라고 결론을 지었을까?\n",
        "*   일반적인 방법으론 예측 확률이 최대화하는 입려값을 찾아 확인하는것\n",
        "*   하지만 모델의 특# 입력값 최적화\n",
        "*   돌출맵을 이용하면 자동차 사진을 식별하는 모델이 자동차를 구성하는 필셀 기반을 객체를 파악했으며, 배경을 통해 식별하지 않았다를 확인할 수 있었다.\n",
        "*   머신러닝 모델은 어떻게 그 필셀이 자동차라고 결론을 지었을까?\n",
        "*   일반적인 방법으론 예측 확률이 최대화하는 입려값을 찾아 확인하는것\n",
        "*   하지만 모델의 입력에 변화를 주며 특징을 추출하는 과정(ex:Pooling)에서 나온 이미지는 사람의 눈에는 의미있는 이미지는 아니다.\n",
        "\n",
        "### 교재 예시 정리\n",
        "-   DNA의 전사부위에 결합을 하는지 예측하는 모델\n",
        "*   목적: 모델이 어떤 패턴(서열/픽셀)을 “중요한 특징”으로 사용하는지 확인하기 위해 입력값을 직접 조정.\n",
        "#### 방법\n",
        "\n",
        "    예측 확률을 최대화하는 입력값 탐색\n",
        "    → 입력 데이터를 반복적으로 변형하면서, 목표 클래스의 예측 확률이 올라가면 그 변형을 유지, 그렇지 않으면 버림.\n",
        "\n",
        "    반복적 강화(gradient ascent 유사)\n",
        "    → 여러 번 반복하면, 예측 확률을 극대화하는 “핵심 패턴”이 강조된 입력값이 남음.\n",
        "\n",
        "    돌출맵(saliency map) 병행 사용\n",
        "    → 어떤 위치(서열, 픽셀 등)가 모델의 출력을 강하게 바꾸는지 시각적으로 확인.\n",
        "\n",
        "*   요약: 입력 최적화 = 입력 데이터 자체를 조정하면서 “이 모델이 중요하다고 생각하는 부분”을 역으로 드러내는 과정입니다.\n",
        "*   중간 과정에 입력데이터를 반복적으로 변형하여 예측확률이 올라가는 지점을 점점 고도화 하였는데 이는 예측을 위한 학습이 아닌 어떠한 규칙을 통해 예측을 하는지 확인하는 과정\n"
      ],
      "metadata": {
        "id": "tQ9jdJRIlkof"
      }
    }
  ]
}